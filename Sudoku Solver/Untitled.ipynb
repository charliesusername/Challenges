{
 "cells": [
  {
   "cell_type": "code",
   "execution_count": 1,
   "metadata": {},
   "outputs": [],
   "source": [
    "# import numpy as np\n",
    "import random\n",
    "import numpy as np"
   ]
  },
  {
   "cell_type": "code",
   "execution_count": 2,
   "metadata": {},
   "outputs": [],
   "source": []
  },
  {
   "cell_type": "code",
   "execution_count": 132,
   "metadata": {},
   "outputs": [],
   "source": [
    "# test grid\n",
    "grid = np.array(\n",
    "       [[0,7,0,0,0,4,1,3,0],\n",
    "        [0,0,0,2,0,7,0,0,6],\n",
    "        [0,0,5,0,1,3,0,2,0],\n",
    "        [0,0,1,0,0,2,0,0,0],\n",
    "        [0,0,2,1,9,0,0,5,7],\n",
    "        [0,0,3,0,4,5,8,0,2],\n",
    "        [0,1,0,3,7,8,2,6,0],\n",
    "        [3,6,7,0,0,0,5,8,0],\n",
    "        [8,0,9,0,0,1,0,7,0]],dtype=object)\n",
    "\n"
   ]
  },
  {
   "cell_type": "code",
   "execution_count": 162,
   "metadata": {},
   "outputs": [],
   "source": [
    "def getPossibilities(grid, i, j):\n",
    "    \n",
    "    if not grid[i][j] == 0:\n",
    "        return [grid[i][j]]\n",
    "    \n",
    "    exists = []\n",
    "    for k in range(9):\n",
    "        rowvalue = grid[i][k]\n",
    "        if rowvalue not in exists and not rowvalue == 0:\n",
    "            exists.append(rowvalue)\n",
    "        colvalue = grid[k][j]\n",
    "        if colvalue not in exists and not colvalue == 0:\n",
    "            exists.append(colvalue)\n",
    "            \n",
    "    for k in range(3):\n",
    "        for l in range(3):\n",
    "            cellvalue = grid[l + (i // 3) * 3][k + (j // 3) * 3]\n",
    "            if cellvalue not in exists and not cellvalue == 0:\n",
    "                exists.append(cellvalue)\n",
    "        \n",
    "\n",
    "    available = []\n",
    "    for i in range(1, 10):\n",
    "        if i not in exists:\n",
    "            available.append(i)\n",
    "    return available\n",
    "\n",
    "def solvePuzzle(grid):\n",
    "    for row in range(9):\n",
    "        for col in range(9):\n",
    "            result = getPossibilities(grid, row, col)\n",
    "            print(row, col, result)\n",
    "            if len(result) == 1:\n",
    "                grid[row][col] = result"
   ]
  },
  {
   "cell_type": "code",
   "execution_count": 163,
   "metadata": {
    "scrolled": true
   },
   "outputs": [
    {
     "name": "stdout",
     "output_type": "stream",
     "text": [
      "[[0 list([[7]]) 0 0 0 list([[4]]) list([[1]]) list([[3]]) 0]\n",
      " [0 0 0 list([[2]]) 0 list([[7]]) 0 0 list([[6]])]\n",
      " [0 0 list([[5]]) 0 list([[1]]) list([[3]]) 0 list([[2]]) 0]\n",
      " [0 0 list([[1]]) 0 0 list([[2]]) 0 0 0]\n",
      " [0 0 list([[2]]) list([[1]]) list([[9]]) 0 0 list([[5]]) list([[7]])]\n",
      " [0 0 list([[3]]) 0 list([[4]]) list([[5]]) list([[8]]) 0 list([[2]])]\n",
      " [0 list([[1]]) 0 list([[3]]) list([[7]]) list([[8]]) list([[2]])\n",
      "  list([[6]]) 0]\n",
      " [list([[3]]) list([[6]]) list([[7]]) 0 0 0 list([[5]]) list([[8]]) 0]\n",
      " [list([[8]]) 0 list([[9]]) 0 0 list([[1]]) 0 list([[7]]) 0]]\n",
      "0 0 [1, 2, 3, 4, 5, 6, 7, 8, 9]\n",
      "0 1 [[[7]]]\n",
      "0 2 [1, 2, 3, 4, 5, 6, 7, 8, 9]\n",
      "0 3 [1, 2, 3, 4, 5, 6, 7, 8, 9]\n",
      "0 4 [1, 2, 3, 4, 5, 6, 7, 8, 9]\n",
      "0 5 [[[4]]]\n",
      "0 6 [[[1]]]\n",
      "0 7 [[[3]]]\n",
      "0 8 [1, 2, 3, 4, 5, 6, 7, 8, 9]\n",
      "1 0 [1, 2, 3, 4, 5, 6, 7, 8, 9]\n",
      "1 1 [1, 2, 3, 4, 5, 6, 7, 8, 9]\n",
      "1 2 [1, 2, 3, 4, 5, 6, 7, 8, 9]\n",
      "1 3 [[[2]]]\n",
      "1 4 [1, 2, 3, 4, 5, 6, 7, 8, 9]\n",
      "1 5 [[[7]]]\n",
      "1 6 [1, 2, 3, 4, 5, 6, 7, 8, 9]\n",
      "1 7 [1, 2, 3, 4, 5, 6, 7, 8, 9]\n",
      "1 8 [[[6]]]\n",
      "2 0 [1, 2, 3, 4, 5, 6, 7, 8, 9]\n",
      "2 1 [1, 2, 3, 4, 5, 6, 7, 8, 9]\n",
      "2 2 [[[5]]]\n",
      "2 3 [1, 2, 3, 4, 5, 6, 7, 8, 9]\n",
      "2 4 [[[1]]]\n",
      "2 5 [[[3]]]\n",
      "2 6 [1, 2, 3, 4, 5, 6, 7, 8, 9]\n",
      "2 7 [[[2]]]\n",
      "2 8 [1, 2, 3, 4, 5, 6, 7, 8, 9]\n",
      "3 0 [1, 2, 3, 4, 5, 6, 7, 8, 9]\n",
      "3 1 [1, 2, 3, 4, 5, 6, 7, 8, 9]\n",
      "3 2 [[[1]]]\n",
      "3 3 [1, 2, 3, 4, 5, 6, 7, 8, 9]\n",
      "3 4 [1, 2, 3, 4, 5, 6, 7, 8, 9]\n",
      "3 5 [[[2]]]\n",
      "3 6 [1, 2, 3, 4, 5, 6, 7, 8, 9]\n",
      "3 7 [1, 2, 3, 4, 5, 6, 7, 8, 9]\n",
      "3 8 [1, 2, 3, 4, 5, 6, 7, 8, 9]\n",
      "4 0 [1, 2, 3, 4, 5, 6, 7, 8, 9]\n",
      "4 1 [1, 2, 3, 4, 5, 6, 7, 8, 9]\n",
      "4 2 [[[2]]]\n",
      "4 3 [[[1]]]\n",
      "4 4 [[[9]]]\n",
      "4 5 [1, 2, 3, 4, 5, 6, 7, 8, 9]\n",
      "4 6 [1, 2, 3, 4, 5, 6, 7, 8, 9]\n",
      "4 7 [[[5]]]\n",
      "4 8 [[[7]]]\n",
      "5 0 [1, 2, 3, 4, 5, 6, 7, 8, 9]\n",
      "5 1 [1, 2, 3, 4, 5, 6, 7, 8, 9]\n",
      "5 2 [[[3]]]\n",
      "5 3 [1, 2, 3, 4, 5, 6, 7, 8, 9]\n",
      "5 4 [[[4]]]\n",
      "5 5 [[[5]]]\n",
      "5 6 [[[8]]]\n",
      "5 7 [1, 2, 3, 4, 5, 6, 7, 8, 9]\n",
      "5 8 [[[2]]]\n",
      "6 0 [1, 2, 3, 4, 5, 6, 7, 8, 9]\n",
      "6 1 [[[1]]]\n",
      "6 2 [1, 2, 3, 4, 5, 6, 7, 8, 9]\n",
      "6 3 [[[3]]]\n",
      "6 4 [[[7]]]\n",
      "6 5 [[[8]]]\n",
      "6 6 [[[2]]]\n",
      "6 7 [[[6]]]\n",
      "6 8 [1, 2, 3, 4, 5, 6, 7, 8, 9]\n",
      "7 0 [[[3]]]\n",
      "7 1 [[[6]]]\n",
      "7 2 [[[7]]]\n",
      "7 3 [1, 2, 3, 4, 5, 6, 7, 8, 9]\n",
      "7 4 [1, 2, 3, 4, 5, 6, 7, 8, 9]\n",
      "7 5 [1, 2, 3, 4, 5, 6, 7, 8, 9]\n",
      "7 6 [[[5]]]\n",
      "7 7 [[[8]]]\n",
      "7 8 [1, 2, 3, 4, 5, 6, 7, 8, 9]\n",
      "8 0 [[[8]]]\n",
      "8 1 [1, 2, 3, 4, 5, 6, 7, 8, 9]\n",
      "8 2 [[[9]]]\n",
      "8 3 [1, 2, 3, 4, 5, 6, 7, 8, 9]\n",
      "8 4 [1, 2, 3, 4, 5, 6, 7, 8, 9]\n",
      "8 5 [[[1]]]\n",
      "8 6 [1, 2, 3, 4, 5, 6, 7, 8, 9]\n",
      "8 7 [[[7]]]\n",
      "8 8 [1, 2, 3, 4, 5, 6, 7, 8, 9]\n",
      "None\n"
     ]
    }
   ],
   "source": [
    "print(grid)\n",
    "print(solvePuzzle(grid))"
   ]
  },
  {
   "cell_type": "code",
   "execution_count": 151,
   "metadata": {},
   "outputs": [
    {
     "name": "stdout",
     "output_type": "stream",
     "text": [
      "0\n",
      "7\n",
      "0\n"
     ]
    }
   ],
   "source": [
    "for k in range(3):\n",
    "    print(grid[0][k + 0 // 3])\n",
    "    print()"
   ]
  },
  {
   "cell_type": "code",
   "execution_count": null,
   "metadata": {},
   "outputs": [],
   "source": []
  }
 ],
 "metadata": {
  "kernelspec": {
   "display_name": "Python 3",
   "language": "python",
   "name": "python3"
  },
  "language_info": {
   "codemirror_mode": {
    "name": "ipython",
    "version": 3
   },
   "file_extension": ".py",
   "mimetype": "text/x-python",
   "name": "python",
   "nbconvert_exporter": "python",
   "pygments_lexer": "ipython3",
   "version": "3.7.4"
  },
  "varInspector": {
   "cols": {
    "lenName": 16,
    "lenType": 16,
    "lenVar": 40
   },
   "kernels_config": {
    "python": {
     "delete_cmd_postfix": "",
     "delete_cmd_prefix": "del ",
     "library": "var_list.py",
     "varRefreshCmd": "print(var_dic_list())"
    },
    "r": {
     "delete_cmd_postfix": ") ",
     "delete_cmd_prefix": "rm(",
     "library": "var_list.r",
     "varRefreshCmd": "cat(var_dic_list()) "
    }
   },
   "types_to_exclude": [
    "module",
    "function",
    "builtin_function_or_method",
    "instance",
    "_Feature"
   ],
   "window_display": false
  }
 },
 "nbformat": 4,
 "nbformat_minor": 4
}
